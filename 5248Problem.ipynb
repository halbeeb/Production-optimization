{
 "cells": [
  {
   "cell_type": "code",
   "execution_count": 63,
   "metadata": {},
   "outputs": [],
   "source": [
    "import gurobipy as grb"
   ]
  },
  {
   "cell_type": "code",
   "execution_count": 64,
   "metadata": {},
   "outputs": [],
   "source": [
    "p=grb.Model(\"bike production problem\")"
   ]
  },
  {
   "cell_type": "code",
   "execution_count": 65,
   "metadata": {},
   "outputs": [],
   "source": [
    "categories,profit = grb.multidict({ \n",
    "'20inches girlmodel':[27],\n",
    "'20inches boymodel':[32],\n",
    "'26inches girlmodel':[38],\n",
    "'26inches boymodel':[51]})\n",
    "\n",
    "prodctionprocess={'prodction minutes','assembly minutes'}\n",
    "\n",
    "productiontime ={\n",
    "('20inches girlmodel','prodction minutes'):12,    \n",
    "('20inches boymodel' ,'prodction minutes'):12,   \n",
    "('26inches girlmodel', 'prodction minutes'):9,  \n",
    "('26inches boymodel', 'prodction minutes'):9,    \n",
    "('20inches girlmodel','assembly minutes'):6,    \n",
    "('20inches boymodel' ,'assembly minutes'):9,   \n",
    "('26inches girlmodel', 'assembly minutes'):12,  \n",
    "('26inches boymodel', 'assembly minutes'):18}\n",
    "    \n",
    "\n"
   ]
  },
  {
   "cell_type": "code",
   "execution_count": 66,
   "metadata": {},
   "outputs": [],
   "source": [
    "x = {}\n",
    "for i in categories:\n",
    "    x[i] = p.addVar(vtype = grb.GRB.CONTINUOUS, obj = profit[i], name= 'x_{}'.format(i))"
   ]
  },
  {
   "cell_type": "code",
   "execution_count": 67,
   "metadata": {},
   "outputs": [],
   "source": [
    "p.modelSense=grb.GRB.MAXIMIZE"
   ]
  },
  {
   "cell_type": "code",
   "execution_count": 82,
   "metadata": {},
   "outputs": [],
   "source": [
    "for j in prodctionprocess:\n",
    " p.addConstr(sum(productiontime[i,j]*x[i] for i in categories) <=2400 , name='productiontime_{}'.format(j))\n",
    " p.addConstr((x['20inches girlmodel']+x['26inches girlmodel'])>=200,name='nimigirlsbike')\n",
    " p.addConstr((x['20inches boymodel']+x['26inches boymodel'])>=200,name='nimigirlsbike')\n",
    " p.addConstr((2*x['20inches girlmodel']+2*x['20inches boymodel'])<=500,name='max20inchesbikes')\n",
    " p.addConstr((2*x['26inches girlmodel']+2*x['26inches boymodel'])<=800,name='max26inchesbikes')\n",
    " p.addConstr(x['20inches girlmodel']>=0)\n",
    " p.addConstr(x['20inches boymodel']>=0)\n",
    " p.addConstr(x['26inches girlmodel']>=0)\n",
    " p.addConstr(x['26inches boymodel']>=0)\n",
    "\n",
    " \n",
    "        \n"
   ]
  },
  {
   "cell_type": "code",
   "execution_count": 83,
   "metadata": {},
   "outputs": [
    {
     "name": "stdout",
     "output_type": "stream",
     "text": [
      "Optimize a model with 45 rows, 4 columns and 92 nonzeros\n",
      "Coefficient statistics:\n",
      "  Matrix range     [1e+00, 2e+01]\n",
      "  Objective range  [3e+01, 5e+01]\n",
      "  Bounds range     [0e+00, 0e+00]\n",
      "  RHS range        [2e+02, 2e+03]\n",
      "Iteration    Objective       Primal Inf.    Dual Inf.      Time\n",
      "       0    6.2000000e+03   6.480000e+04   0.000000e+00      0s\n",
      "\n",
      "Solved in 0 iterations and 0.01 seconds\n",
      "Infeasible model\n"
     ]
    }
   ],
   "source": [
    "p.optimize()"
   ]
  },
  {
   "cell_type": "code",
   "execution_count": 85,
   "metadata": {},
   "outputs": [
    {
     "name": "stdout",
     "output_type": "stream",
     "text": [
      "----------------------------------\n",
      "Need to produce: \n",
      "-2400.00 units of 20inches girlmodel\n",
      "2000.00 units of 20inches boymodel\n",
      "2600.00 units of 26inches girlmodel\n",
      "-1800.00 units of 26inches boymodel\n",
      "----------------------------------\n"
     ]
    },
    {
     "ename": "AttributeError",
     "evalue": "b\"Unable to retrieve attribute 'objVal'\"",
     "output_type": "error",
     "traceback": [
      "\u001b[1;31m---------------------------------------------------------------------------\u001b[0m",
      "\u001b[1;31mAttributeError\u001b[0m                            Traceback (most recent call last)",
      "\u001b[1;32m<ipython-input-85-011f06e77e1d>\u001b[0m in \u001b[0;36m<module>\u001b[1;34m()\u001b[0m\n\u001b[0;32m      4\u001b[0m     \u001b[0mprint\u001b[0m \u001b[1;33m(\u001b[0m\u001b[1;34m'{:.2f} units of {}'\u001b[0m\u001b[1;33m.\u001b[0m\u001b[0mformat\u001b[0m\u001b[1;33m(\u001b[0m\u001b[0mx\u001b[0m\u001b[1;33m[\u001b[0m\u001b[0mi\u001b[0m\u001b[1;33m]\u001b[0m\u001b[1;33m.\u001b[0m\u001b[0mx\u001b[0m\u001b[1;33m,\u001b[0m\u001b[0mi\u001b[0m\u001b[1;33m)\u001b[0m\u001b[1;33m)\u001b[0m\u001b[1;33m\u001b[0m\u001b[0m\n\u001b[0;32m      5\u001b[0m \u001b[0mprint\u001b[0m \u001b[1;33m(\u001b[0m\u001b[1;34m'----------------------------------'\u001b[0m\u001b[1;33m)\u001b[0m\u001b[1;33m\u001b[0m\u001b[0m\n\u001b[1;32m----> 6\u001b[1;33m \u001b[0mprint\u001b[0m \u001b[1;33m(\u001b[0m\u001b[1;34m'Total profit of the production: ${:.2f}'\u001b[0m\u001b[1;33m.\u001b[0m\u001b[0mformat\u001b[0m\u001b[1;33m(\u001b[0m\u001b[0mp\u001b[0m\u001b[1;33m.\u001b[0m\u001b[0mobjVal\u001b[0m\u001b[1;33m)\u001b[0m\u001b[1;33m)\u001b[0m\u001b[1;33m\u001b[0m\u001b[0m\n\u001b[0m",
      "\u001b[1;32mmodel.pxi\u001b[0m in \u001b[0;36mgurobipy.Model.__getattr__ (../../src/python/gurobipy.c:50351)\u001b[1;34m()\u001b[0m\n",
      "\u001b[1;32mmodel.pxi\u001b[0m in \u001b[0;36mgurobipy.Model.getAttr (../../src/python/gurobipy.c:65331)\u001b[1;34m()\u001b[0m\n",
      "\u001b[1;32mmodel.pxi\u001b[0m in \u001b[0;36mgurobipy.Model.__gettypedattr (../../src/python/gurobipy.c:99455)\u001b[1;34m()\u001b[0m\n",
      "\u001b[1;31mAttributeError\u001b[0m: b\"Unable to retrieve attribute 'objVal'\""
     ]
    }
   ],
   "source": [
    "print ('----------------------------------')\n",
    "print ('Need to produce: ')\n",
    "for i in categories:\n",
    "    print ('{:.2f} units of {}'.format(x[i].x,i))\n",
    "print ('----------------------------------')\n",
    "print ('Total profit of the production: ${:.2f}'.format(p.objVal))"
   ]
  },
  {
   "cell_type": "code",
   "execution_count": null,
   "metadata": {},
   "outputs": [],
   "source": []
  }
 ],
 "metadata": {
  "kernelspec": {
   "display_name": "Python 3",
   "language": "python",
   "name": "python3"
  },
  "language_info": {
   "codemirror_mode": {
    "name": "ipython",
    "version": 3
   },
   "file_extension": ".py",
   "mimetype": "text/x-python",
   "name": "python",
   "nbconvert_exporter": "python",
   "pygments_lexer": "ipython3",
   "version": "3.6.4"
  }
 },
 "nbformat": 4,
 "nbformat_minor": 2
}
